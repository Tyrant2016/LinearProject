{
 "cells": [
  {
   "cell_type": "code",
   "execution_count": 30,
   "metadata": {},
   "outputs": [],
   "source": [
    "import os\n",
    "import numpy as np\n",
    "import pandas as pd\n",
    "from sklearn.model_selection import train_test_split\n",
    "from sklearn.linear_model import LinearRegression\n",
    "from sklearn.linear_model import Lasso\n",
    "#jt -t oceans16 -fs 15 -nfs 15 -ofs 10 -dfs 10 -cellw 1500 -T -N\n"
   ]
  },
  {
   "cell_type": "code",
   "execution_count": 31,
   "metadata": {},
   "outputs": [
    {
     "data": {
      "text/html": [
       "<div>\n",
       "<style scoped>\n",
       "    .dataframe tbody tr th:only-of-type {\n",
       "        vertical-align: middle;\n",
       "    }\n",
       "\n",
       "    .dataframe tbody tr th {\n",
       "        vertical-align: top;\n",
       "    }\n",
       "\n",
       "    .dataframe thead th {\n",
       "        text-align: right;\n",
       "    }\n",
       "</style>\n",
       "<table border=\"1\" class=\"dataframe\">\n",
       "  <thead>\n",
       "    <tr style=\"text-align: right;\">\n",
       "      <th></th>\n",
       "      <th>bias</th>\n",
       "      <th>symboling</th>\n",
       "      <th>normalized-losses</th>\n",
       "      <th>engine-size</th>\n",
       "      <th>bore</th>\n",
       "      <th>stroke</th>\n",
       "      <th>compression-ratio</th>\n",
       "      <th>horsepower</th>\n",
       "      <th>peak-rpm</th>\n",
       "      <th>highway-mpg</th>\n",
       "      <th>...</th>\n",
       "      <th>num-of-cylinders_three</th>\n",
       "      <th>num-of-cylinders_twelve</th>\n",
       "      <th>fuel-system_1bbl</th>\n",
       "      <th>fuel-system_2bbl</th>\n",
       "      <th>fuel-system_idi</th>\n",
       "      <th>fuel-system_mfi</th>\n",
       "      <th>fuel-system_mpfi</th>\n",
       "      <th>fuel-system_spdi</th>\n",
       "      <th>fuel-system_spfi</th>\n",
       "      <th>price</th>\n",
       "    </tr>\n",
       "  </thead>\n",
       "  <tbody>\n",
       "    <tr>\n",
       "      <th>0</th>\n",
       "      <td>1</td>\n",
       "      <td>1.78685</td>\n",
       "      <td>1.336575</td>\n",
       "      <td>0.045215</td>\n",
       "      <td>0.513027</td>\n",
       "      <td>-1.808186</td>\n",
       "      <td>-0.288273</td>\n",
       "      <td>0.198569</td>\n",
       "      <td>-0.213359</td>\n",
       "      <td>-0.557058</td>\n",
       "      <td>...</td>\n",
       "      <td>0</td>\n",
       "      <td>0</td>\n",
       "      <td>0</td>\n",
       "      <td>0</td>\n",
       "      <td>0</td>\n",
       "      <td>0</td>\n",
       "      <td>1</td>\n",
       "      <td>0</td>\n",
       "      <td>0</td>\n",
       "      <td>13495.0</td>\n",
       "    </tr>\n",
       "    <tr>\n",
       "      <th>1</th>\n",
       "      <td>1</td>\n",
       "      <td>1.78685</td>\n",
       "      <td>1.336575</td>\n",
       "      <td>0.045215</td>\n",
       "      <td>0.513027</td>\n",
       "      <td>-1.808186</td>\n",
       "      <td>-0.288273</td>\n",
       "      <td>0.198569</td>\n",
       "      <td>-0.213359</td>\n",
       "      <td>-0.557058</td>\n",
       "      <td>...</td>\n",
       "      <td>0</td>\n",
       "      <td>0</td>\n",
       "      <td>0</td>\n",
       "      <td>0</td>\n",
       "      <td>0</td>\n",
       "      <td>0</td>\n",
       "      <td>1</td>\n",
       "      <td>0</td>\n",
       "      <td>0</td>\n",
       "      <td>16500.0</td>\n",
       "    </tr>\n",
       "    <tr>\n",
       "      <th>2</th>\n",
       "      <td>1</td>\n",
       "      <td>0.16397</td>\n",
       "      <td>0.167150</td>\n",
       "      <td>0.575559</td>\n",
       "      <td>-2.394827</td>\n",
       "      <td>0.702918</td>\n",
       "      <td>-0.288273</td>\n",
       "      <td>1.334283</td>\n",
       "      <td>-0.213359</td>\n",
       "      <td>-0.704134</td>\n",
       "      <td>...</td>\n",
       "      <td>0</td>\n",
       "      <td>0</td>\n",
       "      <td>0</td>\n",
       "      <td>0</td>\n",
       "      <td>0</td>\n",
       "      <td>0</td>\n",
       "      <td>1</td>\n",
       "      <td>0</td>\n",
       "      <td>0</td>\n",
       "      <td>16500.0</td>\n",
       "    </tr>\n",
       "    <tr>\n",
       "      <th>3</th>\n",
       "      <td>1</td>\n",
       "      <td>0.97541</td>\n",
       "      <td>1.200962</td>\n",
       "      <td>-0.461021</td>\n",
       "      <td>-0.517605</td>\n",
       "      <td>0.480415</td>\n",
       "      <td>-0.036204</td>\n",
       "      <td>-0.039139</td>\n",
       "      <td>0.856208</td>\n",
       "      <td>-0.115832</td>\n",
       "      <td>...</td>\n",
       "      <td>0</td>\n",
       "      <td>0</td>\n",
       "      <td>0</td>\n",
       "      <td>0</td>\n",
       "      <td>0</td>\n",
       "      <td>0</td>\n",
       "      <td>1</td>\n",
       "      <td>0</td>\n",
       "      <td>0</td>\n",
       "      <td>13950.0</td>\n",
       "    </tr>\n",
       "    <tr>\n",
       "      <th>4</th>\n",
       "      <td>1</td>\n",
       "      <td>0.97541</td>\n",
       "      <td>1.200962</td>\n",
       "      <td>0.189854</td>\n",
       "      <td>-0.517605</td>\n",
       "      <td>0.480415</td>\n",
       "      <td>-0.540341</td>\n",
       "      <td>0.304217</td>\n",
       "      <td>0.856208</td>\n",
       "      <td>-1.292436</td>\n",
       "      <td>...</td>\n",
       "      <td>0</td>\n",
       "      <td>0</td>\n",
       "      <td>0</td>\n",
       "      <td>0</td>\n",
       "      <td>0</td>\n",
       "      <td>0</td>\n",
       "      <td>1</td>\n",
       "      <td>0</td>\n",
       "      <td>0</td>\n",
       "      <td>17450.0</td>\n",
       "    </tr>\n",
       "  </tbody>\n",
       "</table>\n",
       "<p>5 rows × 67 columns</p>\n",
       "</div>"
      ],
      "text/plain": [
       "   bias  symboling  normalized-losses  engine-size      bore    stroke  \\\n",
       "0     1    1.78685           1.336575     0.045215  0.513027 -1.808186   \n",
       "1     1    1.78685           1.336575     0.045215  0.513027 -1.808186   \n",
       "2     1    0.16397           0.167150     0.575559 -2.394827  0.702918   \n",
       "3     1    0.97541           1.200962    -0.461021 -0.517605  0.480415   \n",
       "4     1    0.97541           1.200962     0.189854 -0.517605  0.480415   \n",
       "\n",
       "   compression-ratio  horsepower  peak-rpm  highway-mpg   ...     \\\n",
       "0          -0.288273    0.198569 -0.213359    -0.557058   ...      \n",
       "1          -0.288273    0.198569 -0.213359    -0.557058   ...      \n",
       "2          -0.288273    1.334283 -0.213359    -0.704134   ...      \n",
       "3          -0.036204   -0.039139  0.856208    -0.115832   ...      \n",
       "4          -0.540341    0.304217  0.856208    -1.292436   ...      \n",
       "\n",
       "   num-of-cylinders_three  num-of-cylinders_twelve  fuel-system_1bbl  \\\n",
       "0                       0                        0                 0   \n",
       "1                       0                        0                 0   \n",
       "2                       0                        0                 0   \n",
       "3                       0                        0                 0   \n",
       "4                       0                        0                 0   \n",
       "\n",
       "   fuel-system_2bbl  fuel-system_idi  fuel-system_mfi  fuel-system_mpfi  \\\n",
       "0                 0                0                0                 1   \n",
       "1                 0                0                0                 1   \n",
       "2                 0                0                0                 1   \n",
       "3                 0                0                0                 1   \n",
       "4                 0                0                0                 1   \n",
       "\n",
       "   fuel-system_spdi  fuel-system_spfi    price  \n",
       "0                 0                 0  13495.0  \n",
       "1                 0                 0  16500.0  \n",
       "2                 0                 0  16500.0  \n",
       "3                 0                 0  13950.0  \n",
       "4                 0                 0  17450.0  \n",
       "\n",
       "[5 rows x 67 columns]"
      ]
     },
     "execution_count": 31,
     "metadata": {},
     "output_type": "execute_result"
    }
   ],
   "source": [
    "data = pd.read_csv(os.path.join(os.getcwd(), 'Datas', 'Data-Cleaning-2.csv'))\n",
    "data.head()"
   ]
  },
  {
   "cell_type": "code",
   "execution_count": 32,
   "metadata": {},
   "outputs": [],
   "source": [
    "target = data['price']\n",
    "features = data.drop('price', axis=1)"
   ]
  },
  {
   "cell_type": "code",
   "execution_count": 33,
   "metadata": {},
   "outputs": [
    {
     "data": {
      "text/plain": [
       "72    -9.490000e+02\n",
       "4     -6.200000e+01\n",
       "79     2.970000e+02\n",
       "171    1.925000e+03\n",
       "112   -8.260000e+02\n",
       "71    -6.700000e+01\n",
       "90     2.261000e+03\n",
       "93     5.490000e+02\n",
       "182    5.008000e+03\n",
       "147    9.920000e+02\n",
       "41     1.908298e+15\n",
       "144    3.200000e+01\n",
       "85    -5.650000e+02\n",
       "62     2.500000e+03\n",
       "143   -1.412000e+03\n",
       "155    5.883000e+03\n",
       "19     2.510000e+02\n",
       "107   -8.000000e+02\n",
       "163   -1.340000e+03\n",
       "152    3.720000e+02\n",
       "176    7.330000e+02\n",
       "42     1.945456e+16\n",
       "26     1.253000e+03\n",
       "173    1.853000e+03\n",
       "156    4.693000e+03\n",
       "95    -1.607000e+03\n",
       "77     5.410000e+02\n",
       "167    7.520000e+02\n",
       "31     4.210000e+02\n",
       "128   -6.410000e+02\n",
       "165   -2.600000e+03\n",
       "88    -1.905000e+03\n",
       "37     1.685000e+03\n",
       "120    3.474000e+03\n",
       "110   -3.930000e+02\n",
       "149   -1.500000e+03\n",
       "33     1.179000e+03\n",
       "23     1.170000e+02\n",
       "146   -1.070000e+03\n",
       "80     1.235000e+03\n",
       "53     1.870000e+02\n",
       "159    1.779000e+03\n",
       "82     8.500000e+01\n",
       "148    7.120000e+02\n",
       "140   -7.340000e+02\n",
       "10     3.391000e+03\n",
       "145    1.080000e+02\n",
       "50     3.270000e+02\n",
       "157    3.339000e+03\n",
       "151    1.840000e+02\n",
       "104   -3.049000e+03\n",
       "133    2.165000e+03\n",
       "8     -2.695000e+03\n",
       "172    9.930000e+02\n",
       "127   -2.091000e+03\n",
       "52     2.971000e+03\n",
       "24    -7.140000e+02\n",
       "100    8.600000e+01\n",
       "Name: price, dtype: float64"
      ]
     },
     "execution_count": 33,
     "metadata": {},
     "output_type": "execute_result"
    }
   ],
   "source": [
    "# 这里开始划分数据\n",
    "seed = 123\n",
    "x_train, x_test, y_train, y_test = train_test_split(features, target, test_size=0.3, random_state=seed)\n",
    "linear_regr = LinearRegression(fit_intercept=False,copy_X=True).fit(x_train,y_train)\n",
    "y_hat = linear_regr.predict(x_test)\n",
    "# linear_regr.coef_\n",
    "# linear_regr.score(x_test,y_test)\n",
    "(y_hat-y_test)"
   ]
  },
  {
   "cell_type": "code",
   "execution_count": 34,
   "metadata": {},
   "outputs": [
    {
     "data": {
      "text/plain": [
       "array([7.55000000e+03, 1.73880000e+04, 9.57600000e+03, 9.90000000e+03,\n",
       "       5.86600000e+03, 9.89200000e+03, 1.12100000e+04, 1.49480000e+04,\n",
       "       1.79480000e+04, 8.78000000e+03, 1.90829793e+15, 6.97000000e+03,\n",
       "       6.73400000e+03, 3.66840000e+04, 7.36600000e+03, 1.43320000e+04,\n",
       "       6.82600000e+03, 1.71500000e+04, 8.64800000e+03, 8.61000000e+03,\n",
       "       1.07280000e+04, 1.94545622e+16, 1.01740000e+04, 1.00480000e+04,\n",
       "       1.43320000e+04, 1.55920000e+04, 8.73000000e+03, 1.67500000e+04,\n",
       "       6.95000000e+03, 6.96200000e+03, 8.64800000e+03, 6.09400000e+03,\n",
       "       1.05300000e+04, 1.53240000e+04, 7.56400000e+03, 6.85800000e+03,\n",
       "       8.47400000e+03, 6.34600000e+03, 6.82800000e+03, 6.73400000e+03,\n",
       "       1.07820000e+04, 1.33280000e+04, 6.73400000e+03, 8.45000000e+03,\n",
       "       5.75400000e+03, 2.03160000e+04, 7.30600000e+03, 7.72200000e+03,\n",
       "       1.33280000e+04, 8.24200000e+03, 1.36460000e+04, 1.34240000e+04,\n",
       "       2.11800000e+04, 8.98800000e+03, 4.96200000e+03, 1.14660000e+04,\n",
       "       5.97800000e+03, 1.25260000e+04])"
      ]
     },
     "execution_count": 34,
     "metadata": {},
     "output_type": "execute_result"
    }
   ],
   "source": [
    "y_hat"
   ]
  },
  {
   "cell_type": "code",
   "execution_count": 35,
   "metadata": {},
   "outputs": [
    {
     "data": {
      "text/plain": [
       "72      8499.0\n",
       "4      17450.0\n",
       "79      9279.0\n",
       "171     7975.0\n",
       "112     6692.0\n",
       "71      9959.0\n",
       "90      8949.0\n",
       "93     14399.0\n",
       "182    12940.0\n",
       "147     7788.0\n",
       "41      6785.0\n",
       "144     6938.0\n",
       "85      7299.0\n",
       "62     34184.0\n",
       "143     8778.0\n",
       "155     8449.0\n",
       "19      6575.0\n",
       "107    17950.0\n",
       "163     9988.0\n",
       "152     8238.0\n",
       "176     9995.0\n",
       "42     11048.0\n",
       "26      8921.0\n",
       "173     8195.0\n",
       "156     9639.0\n",
       "95     17199.0\n",
       "77      8189.0\n",
       "167    15998.0\n",
       "31      6529.0\n",
       "128     7603.0\n",
       "165    11248.0\n",
       "88      7999.0\n",
       "37      8845.0\n",
       "120    11850.0\n",
       "110     7957.0\n",
       "149     8358.0\n",
       "33      7295.0\n",
       "23      6229.0\n",
       "146     7898.0\n",
       "80      5499.0\n",
       "53     10595.0\n",
       "159    11549.0\n",
       "82      6649.0\n",
       "148     7738.0\n",
       "140     6488.0\n",
       "10     16925.0\n",
       "145     7198.0\n",
       "50      7395.0\n",
       "157     9989.0\n",
       "151     8058.0\n",
       "104    16695.0\n",
       "133    11259.0\n",
       "8      23875.0\n",
       "172     7995.0\n",
       "127     7053.0\n",
       "52      8495.0\n",
       "24      6692.0\n",
       "100    12440.0\n",
       "Name: price, dtype: float64"
      ]
     },
     "execution_count": 35,
     "metadata": {},
     "output_type": "execute_result"
    }
   ],
   "source": [
    "y_test"
   ]
  },
  {
   "cell_type": "code",
   "execution_count": 36,
   "metadata": {},
   "outputs": [
    {
     "data": {
      "text/plain": [
       "count    5.800000e+01\n",
       "mean     3.683252e+14\n",
       "std      2.562390e+15\n",
       "min     -3.049000e+03\n",
       "25%     -6.957500e+02\n",
       "50%      3.120000e+02\n",
       "75%      1.755500e+03\n",
       "max      1.945456e+16\n",
       "Name: price, dtype: float64"
      ]
     },
     "execution_count": 36,
     "metadata": {},
     "output_type": "execute_result"
    }
   ],
   "source": [
    "(y_hat-y_test).describe()"
   ]
  },
  {
   "cell_type": "code",
   "execution_count": 66,
   "metadata": {},
   "outputs": [
    {
     "data": {
      "text/plain": [
       "count      58.000000\n",
       "mean     -390.996238\n",
       "std      1887.953280\n",
       "min     -5840.698282\n",
       "25%     -1535.256158\n",
       "50%      -146.293909\n",
       "75%       799.713553\n",
       "max      3109.998465\n",
       "Name: price, dtype: float64"
      ]
     },
     "execution_count": 66,
     "metadata": {},
     "output_type": "execute_result"
    }
   ],
   "source": [
    "lrls = Lasso(copy_X=True,fit_intercept=False,normalize=False,max_iter=10000,tol=0.0001).fit(x_train,y_train)\n",
    "(y_test-lrls.predict(x_test)).describe()"
   ]
  },
  {
   "cell_type": "code",
   "execution_count": 67,
   "metadata": {},
   "outputs": [
    {
     "data": {
      "text/plain": [
       "4171"
      ]
     },
     "execution_count": 67,
     "metadata": {},
     "output_type": "execute_result"
    }
   ],
   "source": [
    "lrls.n_iter_"
   ]
  },
  {
   "cell_type": "code",
   "execution_count": 68,
   "metadata": {},
   "outputs": [
    {
     "data": {
      "text/plain": [
       "0.8423361279502241"
      ]
     },
     "execution_count": 68,
     "metadata": {},
     "output_type": "execute_result"
    }
   ],
   "source": [
    "lrls.score(x_test,y_test)"
   ]
  },
  {
   "cell_type": "code",
   "execution_count": 69,
   "metadata": {},
   "outputs": [],
   "source": [
    "from sklearn.linear_model import LassoCV"
   ]
  },
  {
   "cell_type": "code",
   "execution_count": 102,
   "metadata": {},
   "outputs": [
    {
     "data": {
      "text/plain": [
       "count      58.000000\n",
       "mean     -354.052961\n",
       "std      1949.095770\n",
       "min     -5881.539609\n",
       "25%     -1447.695160\n",
       "50%        10.081851\n",
       "75%       852.245665\n",
       "max      3616.240462\n",
       "Name: price, dtype: float64"
      ]
     },
     "execution_count": 102,
     "metadata": {},
     "output_type": "execute_result"
    }
   ],
   "source": [
    "lrlscv=LassoCV(alphas=[0.1,1,10,100],cv=10,tol=0.0001,max_iter=10000000,copy_X=True,normalize=False,fit_intercept=False,random_state=42).fit(x_train,y_train)\n",
    "(y_test-lrlscv.predict(x_test)).describe()"
   ]
  },
  {
   "cell_type": "code",
   "execution_count": 97,
   "metadata": {},
   "outputs": [
    {
     "data": {
      "text/plain": [
       "0.8259054399413935"
      ]
     },
     "execution_count": 97,
     "metadata": {},
     "output_type": "execute_result"
    }
   ],
   "source": [
    "lrlscv.score(x_test,y_test)"
   ]
  },
  {
   "cell_type": "code",
   "execution_count": 94,
   "metadata": {},
   "outputs": [
    {
     "data": {
      "text/plain": [
       "444"
      ]
     },
     "execution_count": 94,
     "metadata": {},
     "output_type": "execute_result"
    }
   ],
   "source": [
    "lrlscv.n_iter_"
   ]
  },
  {
   "cell_type": "code",
   "execution_count": 103,
   "metadata": {},
   "outputs": [
    {
     "data": {
      "text/plain": [
       "10.0"
      ]
     },
     "execution_count": 103,
     "metadata": {},
     "output_type": "execute_result"
    }
   ],
   "source": [
    "lrlscv.alpha_"
   ]
  },
  {
   "cell_type": "code",
   "execution_count": null,
   "metadata": {},
   "outputs": [],
   "source": []
  },
  {
   "cell_type": "code",
   "execution_count": null,
   "metadata": {},
   "outputs": [],
   "source": []
  }
 ],
 "metadata": {
  "kernelspec": {
   "display_name": "Python 3",
   "language": "python",
   "name": "python3"
  },
  "language_info": {
   "codemirror_mode": {
    "name": "ipython",
    "version": 3
   },
   "file_extension": ".py",
   "mimetype": "text/x-python",
   "name": "python",
   "nbconvert_exporter": "python",
   "pygments_lexer": "ipython3",
   "version": "3.6.4"
  }
 },
 "nbformat": 4,
 "nbformat_minor": 1
}
