{
 "cells": [
  {
   "cell_type": "code",
   "execution_count": 272,
   "metadata": {},
   "outputs": [],
   "source": [
    "import os\n",
    "import numpy as np\n",
    "import pandas as pd\n",
    "from sklearn.model_selection import train_test_split\n",
    "#jt -t oceans16 -fs 15 -nfs 15 -ofs 10 -dfs 10 -cellw 1500 -T -N\n"
   ]
  },
  {
   "cell_type": "code",
   "execution_count": 273,
   "metadata": {},
   "outputs": [
    {
     "data": {
      "text/html": [
       "<div>\n",
       "<style scoped>\n",
       "    .dataframe tbody tr th:only-of-type {\n",
       "        vertical-align: middle;\n",
       "    }\n",
       "\n",
       "    .dataframe tbody tr th {\n",
       "        vertical-align: top;\n",
       "    }\n",
       "\n",
       "    .dataframe thead th {\n",
       "        text-align: right;\n",
       "    }\n",
       "</style>\n",
       "<table border=\"1\" class=\"dataframe\">\n",
       "  <thead>\n",
       "    <tr style=\"text-align: right;\">\n",
       "      <th></th>\n",
       "      <th>symboling</th>\n",
       "      <th>normalized-losses</th>\n",
       "      <th>engine-size</th>\n",
       "      <th>bore</th>\n",
       "      <th>stroke</th>\n",
       "      <th>compression-ratio</th>\n",
       "      <th>horsepower</th>\n",
       "      <th>peak-rpm</th>\n",
       "      <th>highway-mpg</th>\n",
       "      <th>volume</th>\n",
       "      <th>...</th>\n",
       "      <th>num-of-cylinders_three</th>\n",
       "      <th>num-of-cylinders_twelve</th>\n",
       "      <th>fuel-system_1bbl</th>\n",
       "      <th>fuel-system_2bbl</th>\n",
       "      <th>fuel-system_idi</th>\n",
       "      <th>fuel-system_mfi</th>\n",
       "      <th>fuel-system_mpfi</th>\n",
       "      <th>fuel-system_spdi</th>\n",
       "      <th>fuel-system_spfi</th>\n",
       "      <th>price</th>\n",
       "    </tr>\n",
       "  </thead>\n",
       "  <tbody>\n",
       "    <tr>\n",
       "      <th>0</th>\n",
       "      <td>1.78685</td>\n",
       "      <td>1.336575</td>\n",
       "      <td>0.045215</td>\n",
       "      <td>0.513027</td>\n",
       "      <td>-1.808186</td>\n",
       "      <td>-0.288273</td>\n",
       "      <td>0.198569</td>\n",
       "      <td>-0.213359</td>\n",
       "      <td>-0.557058</td>\n",
       "      <td>-1.168294</td>\n",
       "      <td>...</td>\n",
       "      <td>0</td>\n",
       "      <td>0</td>\n",
       "      <td>0</td>\n",
       "      <td>0</td>\n",
       "      <td>0</td>\n",
       "      <td>0</td>\n",
       "      <td>1</td>\n",
       "      <td>0</td>\n",
       "      <td>0</td>\n",
       "      <td>13495.0</td>\n",
       "    </tr>\n",
       "    <tr>\n",
       "      <th>1</th>\n",
       "      <td>1.78685</td>\n",
       "      <td>1.336575</td>\n",
       "      <td>0.045215</td>\n",
       "      <td>0.513027</td>\n",
       "      <td>-1.808186</td>\n",
       "      <td>-0.288273</td>\n",
       "      <td>0.198569</td>\n",
       "      <td>-0.213359</td>\n",
       "      <td>-0.557058</td>\n",
       "      <td>-1.168294</td>\n",
       "      <td>...</td>\n",
       "      <td>0</td>\n",
       "      <td>0</td>\n",
       "      <td>0</td>\n",
       "      <td>0</td>\n",
       "      <td>0</td>\n",
       "      <td>0</td>\n",
       "      <td>1</td>\n",
       "      <td>0</td>\n",
       "      <td>0</td>\n",
       "      <td>16500.0</td>\n",
       "    </tr>\n",
       "    <tr>\n",
       "      <th>2</th>\n",
       "      <td>0.16397</td>\n",
       "      <td>0.167150</td>\n",
       "      <td>0.575559</td>\n",
       "      <td>-2.394827</td>\n",
       "      <td>0.702918</td>\n",
       "      <td>-0.288273</td>\n",
       "      <td>1.334283</td>\n",
       "      <td>-0.213359</td>\n",
       "      <td>-0.704134</td>\n",
       "      <td>-0.422041</td>\n",
       "      <td>...</td>\n",
       "      <td>0</td>\n",
       "      <td>0</td>\n",
       "      <td>0</td>\n",
       "      <td>0</td>\n",
       "      <td>0</td>\n",
       "      <td>0</td>\n",
       "      <td>1</td>\n",
       "      <td>0</td>\n",
       "      <td>0</td>\n",
       "      <td>16500.0</td>\n",
       "    </tr>\n",
       "    <tr>\n",
       "      <th>3</th>\n",
       "      <td>0.97541</td>\n",
       "      <td>1.200962</td>\n",
       "      <td>-0.461021</td>\n",
       "      <td>-0.517605</td>\n",
       "      <td>0.480415</td>\n",
       "      <td>-0.036204</td>\n",
       "      <td>-0.039139</td>\n",
       "      <td>0.856208</td>\n",
       "      <td>-0.115832</td>\n",
       "      <td>0.169527</td>\n",
       "      <td>...</td>\n",
       "      <td>0</td>\n",
       "      <td>0</td>\n",
       "      <td>0</td>\n",
       "      <td>0</td>\n",
       "      <td>0</td>\n",
       "      <td>0</td>\n",
       "      <td>1</td>\n",
       "      <td>0</td>\n",
       "      <td>0</td>\n",
       "      <td>13950.0</td>\n",
       "    </tr>\n",
       "    <tr>\n",
       "      <th>4</th>\n",
       "      <td>0.97541</td>\n",
       "      <td>1.200962</td>\n",
       "      <td>0.189854</td>\n",
       "      <td>-0.517605</td>\n",
       "      <td>0.480415</td>\n",
       "      <td>-0.540341</td>\n",
       "      <td>0.304217</td>\n",
       "      <td>0.856208</td>\n",
       "      <td>-1.292436</td>\n",
       "      <td>0.193551</td>\n",
       "      <td>...</td>\n",
       "      <td>0</td>\n",
       "      <td>0</td>\n",
       "      <td>0</td>\n",
       "      <td>0</td>\n",
       "      <td>0</td>\n",
       "      <td>0</td>\n",
       "      <td>1</td>\n",
       "      <td>0</td>\n",
       "      <td>0</td>\n",
       "      <td>17450.0</td>\n",
       "    </tr>\n",
       "  </tbody>\n",
       "</table>\n",
       "<p>5 rows × 67 columns</p>\n",
       "</div>"
      ],
      "text/plain": [
       "   symboling  normalized-losses  engine-size      bore    stroke  \\\n",
       "0    1.78685           1.336575     0.045215  0.513027 -1.808186   \n",
       "1    1.78685           1.336575     0.045215  0.513027 -1.808186   \n",
       "2    0.16397           0.167150     0.575559 -2.394827  0.702918   \n",
       "3    0.97541           1.200962    -0.461021 -0.517605  0.480415   \n",
       "4    0.97541           1.200962     0.189854 -0.517605  0.480415   \n",
       "\n",
       "   compression-ratio  horsepower  peak-rpm  highway-mpg    volume   ...     \\\n",
       "0          -0.288273    0.198569 -0.213359    -0.557058 -1.168294   ...      \n",
       "1          -0.288273    0.198569 -0.213359    -0.557058 -1.168294   ...      \n",
       "2          -0.288273    1.334283 -0.213359    -0.704134 -0.422041   ...      \n",
       "3          -0.036204   -0.039139  0.856208    -0.115832  0.169527   ...      \n",
       "4          -0.540341    0.304217  0.856208    -1.292436  0.193551   ...      \n",
       "\n",
       "   num-of-cylinders_three  num-of-cylinders_twelve  fuel-system_1bbl  \\\n",
       "0                       0                        0                 0   \n",
       "1                       0                        0                 0   \n",
       "2                       0                        0                 0   \n",
       "3                       0                        0                 0   \n",
       "4                       0                        0                 0   \n",
       "\n",
       "   fuel-system_2bbl  fuel-system_idi  fuel-system_mfi  fuel-system_mpfi  \\\n",
       "0                 0                0                0                 1   \n",
       "1                 0                0                0                 1   \n",
       "2                 0                0                0                 1   \n",
       "3                 0                0                0                 1   \n",
       "4                 0                0                0                 1   \n",
       "\n",
       "   fuel-system_spdi  fuel-system_spfi    price  \n",
       "0                 0                 0  13495.0  \n",
       "1                 0                 0  16500.0  \n",
       "2                 0                 0  16500.0  \n",
       "3                 0                 0  13950.0  \n",
       "4                 0                 0  17450.0  \n",
       "\n",
       "[5 rows x 67 columns]"
      ]
     },
     "execution_count": 273,
     "metadata": {},
     "output_type": "execute_result"
    }
   ],
   "source": [
    "data = pd.read_csv(os.path.join(os.getcwd(), 'Datas', 'Data-Cleaning-2.csv'))\n",
    "data.head()"
   ]
  },
  {
   "cell_type": "code",
   "execution_count": 274,
   "metadata": {},
   "outputs": [],
   "source": [
    "target = data['price']\n",
    "features = data.drop('price', axis=1)"
   ]
  },
  {
   "cell_type": "code",
   "execution_count": 275,
   "metadata": {},
   "outputs": [],
   "source": [
    "# 这里开始划分数据\n",
    "seed = 123\n",
    "x_train, x_test, y_train, y_test = train_test_split(features, target, test_size=0.3, random_state=seed)\n"
   ]
  },
  {
   "cell_type": "markdown",
   "metadata": {},
   "source": [
    "然后就要开始做梯度的公式了，先看一下目标函数:<br>\n",
    "X代表一个数据矩阵，每一行代表一个数据点，用$x^a$表示a代表第几行，$x^a_b$代表第a行数据的第b个特征<br>\n",
    "M代表数据的行数，j代表特征的个数，有多少个特征就有多少个参数<br>\n",
    "$\\theta$是参数，他是一个行向量,$\\theta^T$就代表列向量,$\\theta_a$代表$\\theta$的第a个参数<br>\n",
    "<br>\n",
    "$J_{(\\theta)}=\\frac{1}{2M}\\bigg\\{\\left[(x^0_0*\\theta_0+x^0_1*\\theta_1+x^0_2*\\theta_2+....+x^0_j*\\theta_j)-y^0\\right]^2+\\left[(x^1_0*\\theta_0+x^1_1*\\theta_1+x^1_2*\\theta_2+....+x^1_j*\\theta_j)-y^1\\right]^2\\\\\\quad\n",
    "+\\left[(x^2_0*\\theta_0+x^2_1*\\theta_1+x^2_2*\\theta_2+....+x^2_j*\\theta_j)-y^2\\right]^2+......+\\left[(x^m_0*\\theta_0+x^m_1*\\theta_1+x^m_2*\\theta_2+....+x^m_j*\\theta_j)-y^m\\right]^2\\bigg\\}\\\\\\quad=\\frac{1}{2M}\\left[(x^0*\\theta^T-y^0)^2+(x^1*\\theta^T-y^1)^2+(x^2*\\theta^T-y^2)^2+......+(x^m*\\theta^T-y^m)^2\\right]\\\\\\quad\n",
    "=\\frac{1}{2M}\\sum\\limits_{i=0}^{m}\\big[(x^m*\\theta^T)-y^m\\big]^2$<br><br>\n",
    "然后就要开始求梯度了，梯度其实是一个指向函数最大值的方向导数<br>\n",
    "$\\nabla J{(\\theta_j)}=\\frac{1}{M}\\sum\\limits_{i=0}^{M}\\big(x^i*\\theta^T-y^i\\big)x^i_j$<br>\n",
    "上面这一行是单个$\\theta$的偏导，每一次修改$\\theta$的值得时候，是需要所有参数一起修改的，所以每一个 $\\theta$ 都要改<br>\n",
    "$\\theta_j=\\theta_j - \\frac{1}{M}\\sum\\limits_{i=0}^{M}\\big(x^i*\\theta^T-y^i\\big)x^i_j$<br>\n"
   ]
  },
  {
   "cell_type": "code",
   "execution_count": 276,
   "metadata": {},
   "outputs": [
    {
     "data": {
      "text/plain": [
       "(66, 1)"
      ]
     },
     "execution_count": 276,
     "metadata": {},
     "output_type": "execute_result"
    }
   ],
   "source": [
    "theta = np.ones((features.shape[1],1))\n",
    "theta.shape"
   ]
  },
  {
   "cell_type": "code",
   "execution_count": 277,
   "metadata": {},
   "outputs": [
    {
     "data": {
      "text/plain": [
       "(135, 66)"
      ]
     },
     "execution_count": 277,
     "metadata": {},
     "output_type": "execute_result"
    }
   ],
   "source": [
    "x_train.shape"
   ]
  },
  {
   "cell_type": "markdown",
   "metadata": {},
   "source": [
    "每一个 $\\theta_i$ 都要单独计算"
   ]
  },
  {
   "cell_type": "code",
   "execution_count": 278,
   "metadata": {},
   "outputs": [],
   "source": [
    "def gradient_descent(rate,theta,x_train,y_train):\n",
    "    m = 1/x_train.shape[0]  # 这是训练数据的数量要除的那个,我先把他化成1/m\n",
    "    gradient = theta.copy()\n",
    "    for index, theta_i in enumerate(theta):\n",
    "        gradient[index] = rate*m*(x_train.dot(theta).sub(y_train,axis=0).T.dot(x_train.iloc[:,index]))\n",
    "    theta -= gradient\n",
    "    return theta\n",
    "# theta = gradient_descent(0.01,theta,x_train,y_train)\n"
   ]
  },
  {
   "cell_type": "markdown",
   "metadata": {},
   "source": [
    "然后写一个函数计算$J(\\theta)$"
   ]
  },
  {
   "cell_type": "code",
   "execution_count": 279,
   "metadata": {},
   "outputs": [],
   "source": [
    "def cost_function(x_train,y_train,theta):\n",
    "    m = 1/(x_train.shape[0]*2)\n",
    "    cost = m*(((x_train.dot(theta).sub(y_train,axis=0))**2).sum(axis=0))\n",
    "    return int(cost)"
   ]
  },
  {
   "cell_type": "code",
   "execution_count": 280,
   "metadata": {},
   "outputs": [
    {
     "name": "stdout",
     "output_type": "stream",
     "text": [
      "[[-5.33570779e+02]\n",
      " [ 5.14635021e+01]\n",
      " [ 3.83820426e+03]\n",
      " [ 8.61409421e+01]\n",
      " [-5.41970676e+02]\n",
      " [-1.05771563e+03]\n",
      " [ 1.29830298e+03]\n",
      " [ 1.27836475e+03]\n",
      " [ 9.77417211e+02]\n",
      " [ 1.53111737e+03]\n",
      " [ 4.19985518e+03]\n",
      " [ 2.10667747e+03]\n",
      " [ 3.07415585e+03]\n",
      " [ 4.15349050e+03]\n",
      " [-2.38462666e+03]\n",
      " [-1.95621029e+03]\n",
      " [ 5.33837603e+02]\n",
      " [ 1.00000000e+00]\n",
      " [ 7.05504342e+03]\n",
      " [-4.70226297e+02]\n",
      " [ 4.84625530e+03]\n",
      " [-4.78519879e+03]\n",
      " [-1.93108133e+03]\n",
      " [-1.95036521e+03]\n",
      " [-1.87716870e+03]\n",
      " [-2.69498636e+03]\n",
      " [ 4.32787167e+03]\n",
      " [ 1.95971519e+03]\n",
      " [-1.17960207e+03]\n",
      " [-1.72310168e+03]\n",
      " [-3.95415443e+02]\n",
      " [-2.49020897e+03]\n",
      " [ 3.21785167e+03]\n",
      " [ 9.83003507e+02]\n",
      " [ 8.19449833e+02]\n",
      " [ 3.38140535e+03]\n",
      " [ 2.19327673e+03]\n",
      " [ 2.00757845e+03]\n",
      " [ 3.91379093e+03]\n",
      " [ 1.24016124e+03]\n",
      " [ 1.85172012e+02]\n",
      " [-1.26135773e+02]\n",
      " [-1.00913323e+03]\n",
      " [ 1.67625818e+03]\n",
      " [ 1.37086302e+02]\n",
      " [ 2.38851070e+03]\n",
      " [ 1.08557228e+03]\n",
      " [ 3.11528290e+03]\n",
      " [-7.63582708e+02]\n",
      " [ 1.64332840e+03]\n",
      " [ 3.14748282e+03]\n",
      " [ 1.93468083e+03]\n",
      " [-1.75805416e+03]\n",
      " [ 6.77946921e+03]\n",
      " [-1.98796113e+03]\n",
      " [-1.13853238e+03]\n",
      " [ 1.59838072e+03]\n",
      " [ 3.52149710e+03]\n",
      " [-4.56799834e+03]\n",
      " [-1.27185281e+03]\n",
      " [ 1.21497874e+03]\n",
      " [ 3.21785167e+03]\n",
      " [ 1.55319789e+02]\n",
      " [ 1.05387624e+03]\n",
      " [-1.65318451e+02]\n",
      " [ 1.00000000e+00]]\n",
      "cost: 1423188 times: 0\n",
      "Wall time: 14h 59min 45s\n"
     ]
    }
   ],
   "source": [
    "%%time\n",
    "cost = 5000\n",
    "times = 1000000\n",
    "while times:\n",
    "    theta = gradient_descent(0.01,theta,x_train,y_train)\n",
    "    cost = cost_function(x_train,y_train,theta)\n",
    "    times -= 1\n",
    "print(theta)\n",
    "print('cost:',cost,'times:',times)"
   ]
  },
  {
   "cell_type": "code",
   "execution_count": 359,
   "metadata": {},
   "outputs": [
    {
     "data": {
      "text/plain": [
       "count      58.000000\n",
       "mean      431.792765\n",
       "std      1896.556423\n",
       "min     -3104.039401\n",
       "25%      -854.644594\n",
       "50%       143.575967\n",
       "75%      1475.380739\n",
       "max      5757.502563\n",
       "Name: 0, dtype: float64"
      ]
     },
     "execution_count": 359,
     "metadata": {},
     "output_type": "execute_result"
    }
   ],
   "source": [
    "ret = x_test.dot(theta).iloc[:,0]\n",
    "ret -= y_test\n",
    "ret.describe()\n"
   ]
  },
  {
   "cell_type": "code",
   "execution_count": 360,
   "metadata": {},
   "outputs": [
    {
     "data": {
      "text/plain": [
       "numpy.ndarray"
      ]
     },
     "execution_count": 360,
     "metadata": {},
     "output_type": "execute_result"
    }
   ],
   "source": [
    "type(theta)"
   ]
  },
  {
   "cell_type": "code",
   "execution_count": 367,
   "metadata": {},
   "outputs": [],
   "source": [
    "save_theta = pd.DataFrame(theta)\n",
    "save_theta.to_csv(os.path.join(os.getcwd(),'Datas','theta_1.csv'),index=False)"
   ]
  },
  {
   "cell_type": "code",
   "execution_count": null,
   "metadata": {},
   "outputs": [],
   "source": []
  }
 ],
 "metadata": {
  "kernelspec": {
   "display_name": "Python 3",
   "language": "python",
   "name": "python3"
  },
  "language_info": {
   "codemirror_mode": {
    "name": "ipython",
    "version": 3
   },
   "file_extension": ".py",
   "mimetype": "text/x-python",
   "name": "python",
   "nbconvert_exporter": "python",
   "pygments_lexer": "ipython3",
   "version": "3.6.4"
  }
 },
 "nbformat": 4,
 "nbformat_minor": 1
}
