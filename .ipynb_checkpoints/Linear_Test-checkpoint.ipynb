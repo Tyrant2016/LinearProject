{
 "cells": [
  {
   "cell_type": "code",
   "execution_count": 1,
   "metadata": {},
   "outputs": [],
   "source": [
    "import os\n",
    "import numpy as np\n",
    "import pandas as pd\n",
    "from sklearn.model_selection import train_test_split\n",
    "#jt -t oceans16 -fs 15 -nfs 15 -ofs 10 -dfs 10 -cellw 1500 -T -N\n"
   ]
  },
  {
   "cell_type": "code",
   "execution_count": 2,
   "metadata": {},
   "outputs": [
    {
     "data": {
      "text/html": [
       "<div>\n",
       "<style scoped>\n",
       "    .dataframe tbody tr th:only-of-type {\n",
       "        vertical-align: middle;\n",
       "    }\n",
       "\n",
       "    .dataframe tbody tr th {\n",
       "        vertical-align: top;\n",
       "    }\n",
       "\n",
       "    .dataframe thead th {\n",
       "        text-align: right;\n",
       "    }\n",
       "</style>\n",
       "<table border=\"1\" class=\"dataframe\">\n",
       "  <thead>\n",
       "    <tr style=\"text-align: right;\">\n",
       "      <th></th>\n",
       "      <th>bias</th>\n",
       "      <th>symboling</th>\n",
       "      <th>normalized-losses</th>\n",
       "      <th>engine-size</th>\n",
       "      <th>bore</th>\n",
       "      <th>stroke</th>\n",
       "      <th>compression-ratio</th>\n",
       "      <th>horsepower</th>\n",
       "      <th>peak-rpm</th>\n",
       "      <th>highway-mpg</th>\n",
       "      <th>...</th>\n",
       "      <th>num-of-cylinders_three</th>\n",
       "      <th>num-of-cylinders_twelve</th>\n",
       "      <th>fuel-system_1bbl</th>\n",
       "      <th>fuel-system_2bbl</th>\n",
       "      <th>fuel-system_idi</th>\n",
       "      <th>fuel-system_mfi</th>\n",
       "      <th>fuel-system_mpfi</th>\n",
       "      <th>fuel-system_spdi</th>\n",
       "      <th>fuel-system_spfi</th>\n",
       "      <th>price</th>\n",
       "    </tr>\n",
       "  </thead>\n",
       "  <tbody>\n",
       "    <tr>\n",
       "      <th>0</th>\n",
       "      <td>1</td>\n",
       "      <td>1.78685</td>\n",
       "      <td>1.336575</td>\n",
       "      <td>0.045215</td>\n",
       "      <td>0.513027</td>\n",
       "      <td>-1.808186</td>\n",
       "      <td>-0.288273</td>\n",
       "      <td>0.198569</td>\n",
       "      <td>-0.213359</td>\n",
       "      <td>-0.557058</td>\n",
       "      <td>...</td>\n",
       "      <td>0</td>\n",
       "      <td>0</td>\n",
       "      <td>0</td>\n",
       "      <td>0</td>\n",
       "      <td>0</td>\n",
       "      <td>0</td>\n",
       "      <td>1</td>\n",
       "      <td>0</td>\n",
       "      <td>0</td>\n",
       "      <td>13495.0</td>\n",
       "    </tr>\n",
       "    <tr>\n",
       "      <th>1</th>\n",
       "      <td>1</td>\n",
       "      <td>1.78685</td>\n",
       "      <td>1.336575</td>\n",
       "      <td>0.045215</td>\n",
       "      <td>0.513027</td>\n",
       "      <td>-1.808186</td>\n",
       "      <td>-0.288273</td>\n",
       "      <td>0.198569</td>\n",
       "      <td>-0.213359</td>\n",
       "      <td>-0.557058</td>\n",
       "      <td>...</td>\n",
       "      <td>0</td>\n",
       "      <td>0</td>\n",
       "      <td>0</td>\n",
       "      <td>0</td>\n",
       "      <td>0</td>\n",
       "      <td>0</td>\n",
       "      <td>1</td>\n",
       "      <td>0</td>\n",
       "      <td>0</td>\n",
       "      <td>16500.0</td>\n",
       "    </tr>\n",
       "    <tr>\n",
       "      <th>2</th>\n",
       "      <td>1</td>\n",
       "      <td>0.16397</td>\n",
       "      <td>0.167150</td>\n",
       "      <td>0.575559</td>\n",
       "      <td>-2.394827</td>\n",
       "      <td>0.702918</td>\n",
       "      <td>-0.288273</td>\n",
       "      <td>1.334283</td>\n",
       "      <td>-0.213359</td>\n",
       "      <td>-0.704134</td>\n",
       "      <td>...</td>\n",
       "      <td>0</td>\n",
       "      <td>0</td>\n",
       "      <td>0</td>\n",
       "      <td>0</td>\n",
       "      <td>0</td>\n",
       "      <td>0</td>\n",
       "      <td>1</td>\n",
       "      <td>0</td>\n",
       "      <td>0</td>\n",
       "      <td>16500.0</td>\n",
       "    </tr>\n",
       "    <tr>\n",
       "      <th>3</th>\n",
       "      <td>1</td>\n",
       "      <td>0.97541</td>\n",
       "      <td>1.200962</td>\n",
       "      <td>-0.461021</td>\n",
       "      <td>-0.517605</td>\n",
       "      <td>0.480415</td>\n",
       "      <td>-0.036204</td>\n",
       "      <td>-0.039139</td>\n",
       "      <td>0.856208</td>\n",
       "      <td>-0.115832</td>\n",
       "      <td>...</td>\n",
       "      <td>0</td>\n",
       "      <td>0</td>\n",
       "      <td>0</td>\n",
       "      <td>0</td>\n",
       "      <td>0</td>\n",
       "      <td>0</td>\n",
       "      <td>1</td>\n",
       "      <td>0</td>\n",
       "      <td>0</td>\n",
       "      <td>13950.0</td>\n",
       "    </tr>\n",
       "    <tr>\n",
       "      <th>4</th>\n",
       "      <td>1</td>\n",
       "      <td>0.97541</td>\n",
       "      <td>1.200962</td>\n",
       "      <td>0.189854</td>\n",
       "      <td>-0.517605</td>\n",
       "      <td>0.480415</td>\n",
       "      <td>-0.540341</td>\n",
       "      <td>0.304217</td>\n",
       "      <td>0.856208</td>\n",
       "      <td>-1.292436</td>\n",
       "      <td>...</td>\n",
       "      <td>0</td>\n",
       "      <td>0</td>\n",
       "      <td>0</td>\n",
       "      <td>0</td>\n",
       "      <td>0</td>\n",
       "      <td>0</td>\n",
       "      <td>1</td>\n",
       "      <td>0</td>\n",
       "      <td>0</td>\n",
       "      <td>17450.0</td>\n",
       "    </tr>\n",
       "  </tbody>\n",
       "</table>\n",
       "<p>5 rows × 67 columns</p>\n",
       "</div>"
      ],
      "text/plain": [
       "   bias  symboling  normalized-losses  engine-size      bore    stroke  \\\n",
       "0     1    1.78685           1.336575     0.045215  0.513027 -1.808186   \n",
       "1     1    1.78685           1.336575     0.045215  0.513027 -1.808186   \n",
       "2     1    0.16397           0.167150     0.575559 -2.394827  0.702918   \n",
       "3     1    0.97541           1.200962    -0.461021 -0.517605  0.480415   \n",
       "4     1    0.97541           1.200962     0.189854 -0.517605  0.480415   \n",
       "\n",
       "   compression-ratio  horsepower  peak-rpm  highway-mpg   ...     \\\n",
       "0          -0.288273    0.198569 -0.213359    -0.557058   ...      \n",
       "1          -0.288273    0.198569 -0.213359    -0.557058   ...      \n",
       "2          -0.288273    1.334283 -0.213359    -0.704134   ...      \n",
       "3          -0.036204   -0.039139  0.856208    -0.115832   ...      \n",
       "4          -0.540341    0.304217  0.856208    -1.292436   ...      \n",
       "\n",
       "   num-of-cylinders_three  num-of-cylinders_twelve  fuel-system_1bbl  \\\n",
       "0                       0                        0                 0   \n",
       "1                       0                        0                 0   \n",
       "2                       0                        0                 0   \n",
       "3                       0                        0                 0   \n",
       "4                       0                        0                 0   \n",
       "\n",
       "   fuel-system_2bbl  fuel-system_idi  fuel-system_mfi  fuel-system_mpfi  \\\n",
       "0                 0                0                0                 1   \n",
       "1                 0                0                0                 1   \n",
       "2                 0                0                0                 1   \n",
       "3                 0                0                0                 1   \n",
       "4                 0                0                0                 1   \n",
       "\n",
       "   fuel-system_spdi  fuel-system_spfi    price  \n",
       "0                 0                 0  13495.0  \n",
       "1                 0                 0  16500.0  \n",
       "2                 0                 0  16500.0  \n",
       "3                 0                 0  13950.0  \n",
       "4                 0                 0  17450.0  \n",
       "\n",
       "[5 rows x 67 columns]"
      ]
     },
     "execution_count": 2,
     "metadata": {},
     "output_type": "execute_result"
    }
   ],
   "source": [
    "data = pd.read_csv(os.path.join(os.getcwd(), 'Datas', 'Data-Cleaning-2.csv'))\n",
    "data.head()"
   ]
  },
  {
   "cell_type": "code",
   "execution_count": 3,
   "metadata": {},
   "outputs": [],
   "source": [
    "target = data['price']\n",
    "features = data.drop('price', axis=1)"
   ]
  },
  {
   "cell_type": "code",
   "execution_count": 4,
   "metadata": {},
   "outputs": [],
   "source": [
    "# 这里开始划分数据\n",
    "seed = 123\n",
    "x_train, x_test, y_train, y_test = train_test_split(features, target, test_size=0.3, random_state=seed)\n"
   ]
  },
  {
   "cell_type": "markdown",
   "metadata": {},
   "source": [
    "然后就要开始做梯度的公式了，先看一下目标函数:<br>\n",
    "X代表一个数据矩阵，每一行代表一个数据点，用$x^a$表示a代表第几行，$x^a_b$代表第a行数据的第b个特征<br>\n",
    "M代表数据的行数，j代表特征的个数，有多少个特征就有多少个参数<br>\n",
    "$\\theta$是参数，他是一个行向量,$\\theta^T$就代表列向量,$\\theta_a$代表$\\theta$的第a个参数<br>\n",
    "<br>\n",
    "$J_{(\\theta)}=\\frac{1}{2M}\\bigg\\{\\left[(x^0_0*\\theta_0+x^0_1*\\theta_1+x^0_2*\\theta_2+....+x^0_j*\\theta_j)-y^0\\right]^2+\\left[(x^1_0*\\theta_0+x^1_1*\\theta_1+x^1_2*\\theta_2+....+x^1_j*\\theta_j)-y^1\\right]^2\\\\\\quad\n",
    "+\\left[(x^2_0*\\theta_0+x^2_1*\\theta_1+x^2_2*\\theta_2+....+x^2_j*\\theta_j)-y^2\\right]^2+......+\\left[(x^m_0*\\theta_0+x^m_1*\\theta_1+x^m_2*\\theta_2+....+x^m_j*\\theta_j)-y^m\\right]^2\\bigg\\}\\\\\\quad=\\frac{1}{2M}\\left[(x^0*\\theta^T-y^0)^2+(x^1*\\theta^T-y^1)^2+(x^2*\\theta^T-y^2)^2+......+(x^m*\\theta^T-y^m)^2\\right]\\\\\\quad\n",
    "=\\frac{1}{2M}\\sum\\limits_{i=0}^{m}\\big[(x^m*\\theta^T)-y^m\\big]^2$<br><br>\n",
    "然后就要开始求梯度了，梯度其实是一个指向函数最大值的方向导数<br>\n",
    "$\\nabla J{(\\theta_j)}=\\frac{1}{M}\\sum\\limits_{i=0}^{M}\\big(x^i*\\theta^T-y^i\\big)x^i_j$<br>\n",
    "上面这一行是单个$\\theta$的偏导，每一次修改$\\theta$的值得时候，是需要所有参数一起修改的，所以每一个 $\\theta$ 都要改<br>\n",
    "$\\theta_j=\\theta_j - \\frac{1}{M}\\sum\\limits_{i=0}^{M}\\big(x^i*\\theta^T-y^i\\big)x^i_j$<br>\n"
   ]
  },
  {
   "cell_type": "code",
   "execution_count": 5,
   "metadata": {},
   "outputs": [
    {
     "data": {
      "text/plain": [
       "(66, 1)"
      ]
     },
     "execution_count": 5,
     "metadata": {},
     "output_type": "execute_result"
    }
   ],
   "source": [
    "theta = np.ones((features.shape[1],1))\n",
    "theta.shape"
   ]
  },
  {
   "cell_type": "code",
   "execution_count": 6,
   "metadata": {},
   "outputs": [
    {
     "data": {
      "text/plain": [
       "(135, 66)"
      ]
     },
     "execution_count": 6,
     "metadata": {},
     "output_type": "execute_result"
    }
   ],
   "source": [
    "x_train.shape"
   ]
  },
  {
   "cell_type": "markdown",
   "metadata": {},
   "source": [
    "每一个 $\\theta_i$ 都要单独计算"
   ]
  },
  {
   "cell_type": "code",
   "execution_count": 7,
   "metadata": {},
   "outputs": [],
   "source": [
    "def gradient_descent(rate,theta,x_train,y_train):\n",
    "    m = 1/x_train.shape[0]  # 这是训练数据的数量要除的那个,我先把他化成1/m\n",
    "    gradient = theta.copy()\n",
    "    for index, theta_i in enumerate(theta):\n",
    "        gradient[index] = rate*m*(x_train.dot(theta).sub(y_train,axis=0).T.dot(x_train.iloc[:,index]))\n",
    "    theta -= gradient\n",
    "    return theta\n",
    "# theta = gradient_descent(0.01,theta,x_train,y_train)\n"
   ]
  },
  {
   "cell_type": "markdown",
   "metadata": {},
   "source": [
    "然后写一个函数计算$J(\\theta)$"
   ]
  },
  {
   "cell_type": "code",
   "execution_count": 8,
   "metadata": {},
   "outputs": [],
   "source": [
    "def cost_function(x_train,y_train,theta):\n",
    "    m = 1/(x_train.shape[0]*2)\n",
    "    cost = m*(((x_train.dot(theta).sub(y_train,axis=0))**2).sum(axis=0))\n",
    "    return int(cost)"
   ]
  },
  {
   "cell_type": "code",
   "execution_count": 14,
   "metadata": {},
   "outputs": [],
   "source": [
    "import matplotlib.pyplot as plt\n",
    "cost=list()\n",
    "times = 2000000"
   ]
  },
  {
   "cell_type": "code",
   "execution_count": 15,
   "metadata": {},
   "outputs": [
    {
     "name": "stdout",
     "output_type": "stream",
     "text": [
      "cost 1423188 times: 0\n",
      "Wall time: 1d 4h 10min 49s\n"
     ]
    },
    {
     "data": {
      "image/png": "[encoded data removed]",
      "text/plain": [
       "<matplotlib.figure.Figure at 0x16becf5fa90>"
      ]
     },
     "metadata": {},
     "output_type": "display_data"
    }
   ],
   "source": [
    "%%time\n",
    "while times:\n",
    "    theta = gradient_descent(0.01,theta,x_train,y_train)\n",
    "    cost.append(cost_function(x_train,y_train,theta))\n",
    "    times -= 1\n",
    "print('cost',cost[len(cost)-1],'times:',times)\n",
    "plt.plot(cost)"
   ]
  },
  {
   "cell_type": "code",
   "execution_count": 98,
   "metadata": {},
   "outputs": [
    {
     "name": "stdout",
     "output_type": "stream",
     "text": [
      "1423188\n",
      "1423188\n"
     ]
    },
    {
     "data": {
      "image/png": "[encoded data removed]",
      "text/plain": [
       "<matplotlib.figure.Figure at 0x16b9b9da940>"
      ]
     },
     "metadata": {},
     "output_type": "display_data"
    }
   ],
   "source": [
    "fig = plt.figure(figsize=(20,20))\n",
    "ax = fig.add_subplot(111)\n",
    "ax.plot(cost[100000:500000])\n",
    "print(cost[1000000])\n",
    "print(cost[489184])"
   ]
  },
  {
   "cell_type": "code",
   "execution_count": 25,
   "metadata": {},
   "outputs": [
    {
     "data": {
      "text/plain": [
       "array([[ 4.20011200e+03],\n",
       "       [-5.33563191e+02],\n",
       "       [ 5.14681793e+01],\n",
       "       [ 3.83810385e+03],\n",
       "       [ 8.61882213e+01],\n",
       "       [-5.41955405e+02],\n",
       "       [-1.05850829e+03],\n",
       "       [ 1.29813075e+03],\n",
       "       [ 1.27838007e+03],\n",
       "       [ 9.77445337e+02],\n",
       "       [ 1.53119020e+03],\n",
       "       [ 2.10672282e+03],\n",
       "       [ 3.07428537e+03],\n",
       "       [ 4.15331958e+03],\n",
       "       [-2.38455376e+03],\n",
       "       [-1.95622546e+03],\n",
       "       [ 5.33930967e+02],\n",
       "       [ 1.00000000e+00],\n",
       "       [ 7.05484805e+03],\n",
       "       [-4.70349776e+02],\n",
       "       [ 4.84636210e+03],\n",
       "       [-4.78515987e+03],\n",
       "       [-1.93107908e+03],\n",
       "       [-1.95037442e+03],\n",
       "       [-1.87712903e+03],\n",
       "       [-2.69501201e+03],\n",
       "       [ 4.32808079e+03],\n",
       "       [ 1.95985116e+03],\n",
       "       [-1.17962128e+03],\n",
       "       [-1.72313684e+03],\n",
       "       [-3.95405632e+02],\n",
       "       [-2.49024169e+03],\n",
       "       [ 3.21877013e+03],\n",
       "       [ 9.82341865e+02],\n",
       "       [ 8.19584887e+02],\n",
       "       [ 3.38152711e+03],\n",
       "       [ 2.19341945e+03],\n",
       "       [ 2.00769255e+03],\n",
       "       [ 3.91384852e+03],\n",
       "       [ 1.24026627e+03],\n",
       "       [ 1.85249475e+02],\n",
       "       [-1.26101271e+02],\n",
       "       [-1.00915100e+03],\n",
       "       [ 1.67627517e+03],\n",
       "       [ 1.37149909e+02],\n",
       "       [ 2.38868692e+03],\n",
       "       [ 1.08567432e+03],\n",
       "       [ 3.11543768e+03],\n",
       "       [-7.63398445e+02],\n",
       "       [ 1.64309699e+03],\n",
       "       [ 3.14759075e+03],\n",
       "       [ 1.93481640e+03],\n",
       "       [-1.75799369e+03],\n",
       "       [ 6.77934266e+03],\n",
       "       [-1.98848923e+03],\n",
       "       [-1.13894993e+03],\n",
       "       [ 1.59832289e+03],\n",
       "       [ 3.52122601e+03],\n",
       "       [-4.56634041e+03],\n",
       "       [-1.27200837e+03],\n",
       "       [ 1.21489661e+03],\n",
       "       [ 3.21877013e+03],\n",
       "       [ 1.55166535e+02],\n",
       "       [ 1.05380351e+03],\n",
       "       [-1.65516417e+02],\n",
       "       [ 1.00000000e+00]])"
      ]
     },
     "execution_count": 25,
     "metadata": {},
     "output_type": "execute_result"
    }
   ],
   "source": [
    "theta"
   ]
  },
  {
   "cell_type": "code",
   "execution_count": 99,
   "metadata": {},
   "outputs": [
    {
     "data": {
      "text/plain": [
       "count      58.000000\n",
       "mean      431.811198\n",
       "std      1896.558528\n",
       "min     -3104.110861\n",
       "25%      -854.663646\n",
       "50%       143.636689\n",
       "75%      1475.441006\n",
       "max      5757.420958\n",
       "Name: 0, dtype: float64"
      ]
     },
     "execution_count": 99,
     "metadata": {},
     "output_type": "execute_result"
    }
   ],
   "source": [
    "ret = x_test.dot(theta).iloc[:,0]\n",
    "ret -= y_test\n",
    "ret.describe()\n"
   ]
  },
  {
   "cell_type": "code",
   "execution_count": 360,
   "metadata": {},
   "outputs": [
    {
     "data": {
      "text/plain": [
       "numpy.ndarray"
      ]
     },
     "execution_count": 360,
     "metadata": {},
     "output_type": "execute_result"
    }
   ],
   "source": [
    "type(theta)"
   ]
  },
  {
   "cell_type": "code",
   "execution_count": 26,
   "metadata": {},
   "outputs": [],
   "source": [
    "save_theta = pd.DataFrame(theta)\n",
    "save_theta.to_csv(os.path.join(os.getcwd(),'Datas','theta_2M.csv'),index=False)"
   ]
  },
  {
   "cell_type": "code",
   "execution_count": null,
   "metadata": {},
   "outputs": [],
   "source": []
  }
 ],
 "metadata": {
  "kernelspec": {
   "display_name": "Python 3",
   "language": "python",
   "name": "python3"
  },
  "language_info": {
   "codemirror_mode": {
    "name": "ipython",
    "version": 3
   },
   "file_extension": ".py",
   "mimetype": "text/x-python",
   "name": "python",
   "nbconvert_exporter": "python",
   "pygments_lexer": "ipython3",
   "version": "3.6.4"
  }
 },
 "nbformat": 4,
 "nbformat_minor": 1
}
